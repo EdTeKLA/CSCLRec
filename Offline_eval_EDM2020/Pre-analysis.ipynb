{
 "cells": [
  {
   "cell_type": "code",
   "execution_count": 1,
   "metadata": {},
   "outputs": [],
   "source": [
    "from Preprocessor import Preprocessor\n",
    "from OfflineEvaluator import OfflineEvaluator\n",
    "from ContentAnalyzer import ContentAnalyzer\n",
    "from PostFilter import PostFilter\n",
    "import numpy as np\n",
    "import pandas as pd\n",
    "import os\n",
    "import matplotlib.pyplot as plt\n",
    "import itertools\n",
    "import pickle\n",
    "from STOPWORDS import STOP_WORDS\n",
    "import seaborn as sns\n",
    "from scipy import stats\n",
    "from collections import Counter\n",
    "from itertools import combinations\n",
    "import utils\n",
    "from datetime import datetime\n",
    "import networkx as nx"
   ]
  },
  {
   "cell_type": "code",
   "execution_count": 2,
   "metadata": {},
   "outputs": [],
   "source": [
    "# Sample course SA\n",
    "dbnum = ##\n",
    "num_weeks = 6\n",
    "START_DATE = #datetime(...)\n",
    "TEMPORAL_START_WEEK = 3\n",
    "instructors = #[...]"
   ]
  },
  {
   "cell_type": "code",
   "execution_count": 4,
   "metadata": {},
   "outputs": [],
   "source": [
    "k = 10\n",
    "week_stride = 1\n",
    "path_clean = \"cleaned_data\"\n",
    "path_sample = \"sample\"\n",
    "\n",
    "# preprocess\n",
    "WEIGHT_POST_LOOKUP = {1: 'created',2:'liked',3:'linked',4:'replied',5:'revisited',6:'read',7:'anonymously read'}\n",
    "WEIGHT_USER_LOOKUP = {1:'liked',2:'linked',3:'replied',4:'read',5:'anonymously read'}\n",
    "CUTOFF_WEIGHT = 5\n",
    "EXPLICIT_THRESHOLD = 5\n",
    "IMPLICIT_THRESHOLD = 10"
   ]
  },
  {
   "cell_type": "code",
   "execution_count": null,
   "metadata": {
    "scrolled": true
   },
   "outputs": [],
   "source": [
    "preprocessor = Preprocessor(path_sample, dbnum, \n",
    "                            WEIGHT_POST_LOOKUP, WEIGHT_USER_LOOKUP, START_DATE, verbose=0)"
   ]
  },
  {
   "cell_type": "code",
   "execution_count": 6,
   "metadata": {
    "scrolled": true
   },
   "outputs": [],
   "source": [
    "#preprocessor.all_post_interactions"
   ]
  },
  {
   "cell_type": "code",
   "execution_count": 7,
   "metadata": {
    "scrolled": true
   },
   "outputs": [],
   "source": [
    "user_summary = []\n",
    "for user, inter in preprocessor.post_interactions_per_person.items():\n",
    "#     print(user)\n",
    "#     print(len(inter.NoteID.unique()))\n",
    "#     print(len(inter))\n",
    "    user_summary.append([user, len(inter.loc[(inter.weight==6)|(inter.weight==7)]),\n",
    "                         len(inter.loc[inter.weight==2]),\n",
    "                         len(inter.loc[inter.weight==3]),\n",
    "                         len(inter.loc[inter.weight==1]),\n",
    "                         len(inter.NoteID.unique()), len(inter)])"
   ]
  },
  {
   "cell_type": "code",
   "execution_count": 8,
   "metadata": {},
   "outputs": [],
   "source": [
    "df = pd.DataFrame(data=user_summary, columns=['PersonID', '#reads', '#likes', '#links', '#replies',\n",
    "                                              '# interacted posts','# interactions'])"
   ]
  },
  {
   "cell_type": "code",
   "execution_count": 9,
   "metadata": {
    "scrolled": true
   },
   "outputs": [],
   "source": [
    "df = df.loc[~df.PersonID.isin(instructors)]"
   ]
  },
  {
   "cell_type": "code",
   "execution_count": 10,
   "metadata": {},
   "outputs": [
    {
     "data": {
      "text/html": [
       "<div>\n",
       "<style scoped>\n",
       "    .dataframe tbody tr th:only-of-type {\n",
       "        vertical-align: middle;\n",
       "    }\n",
       "\n",
       "    .dataframe tbody tr th {\n",
       "        vertical-align: top;\n",
       "    }\n",
       "\n",
       "    .dataframe thead th {\n",
       "        text-align: right;\n",
       "    }\n",
       "</style>\n",
       "<table border=\"1\" class=\"dataframe\">\n",
       "  <thead>\n",
       "    <tr style=\"text-align: right;\">\n",
       "      <th></th>\n",
       "      <th>PersonID</th>\n",
       "      <th>#reads</th>\n",
       "      <th>#likes</th>\n",
       "      <th>#links</th>\n",
       "      <th>#replies</th>\n",
       "      <th># interacted posts</th>\n",
       "      <th># interactions</th>\n",
       "    </tr>\n",
       "  </thead>\n",
       "  <tbody>\n",
       "    <tr>\n",
       "      <th>mean</th>\n",
       "      <td>1895.100000</td>\n",
       "      <td>521.400000</td>\n",
       "      <td>44.200000</td>\n",
       "      <td>0.550000</td>\n",
       "      <td>27.800000</td>\n",
       "      <td>506.900000</td>\n",
       "      <td>630.850000</td>\n",
       "    </tr>\n",
       "    <tr>\n",
       "      <th>std</th>\n",
       "      <td>176.992388</td>\n",
       "      <td>223.418512</td>\n",
       "      <td>44.630176</td>\n",
       "      <td>1.571958</td>\n",
       "      <td>10.680035</td>\n",
       "      <td>223.654786</td>\n",
       "      <td>269.107937</td>\n",
       "    </tr>\n",
       "  </tbody>\n",
       "</table>\n",
       "</div>"
      ],
      "text/plain": [
       "         PersonID      #reads     #likes    #links   #replies  \\\n",
       "mean  1895.100000  521.400000  44.200000  0.550000  27.800000   \n",
       "std    176.992388  223.418512  44.630176  1.571958  10.680035   \n",
       "\n",
       "      # interacted posts  # interactions  \n",
       "mean          506.900000      630.850000  \n",
       "std           223.654786      269.107937  "
      ]
     },
     "execution_count": 10,
     "metadata": {},
     "output_type": "execute_result"
    }
   ],
   "source": [
    "df.describe().loc[['mean','std']]"
   ]
  },
  {
   "cell_type": "code",
   "execution_count": 11,
   "metadata": {},
   "outputs": [
    {
     "data": {
      "text/plain": [
       "869"
      ]
     },
     "execution_count": 11,
     "metadata": {},
     "output_type": "execute_result"
    }
   ],
   "source": [
    "len(preprocessor.all_note_contents)"
   ]
  },
  {
   "cell_type": "code",
   "execution_count": 12,
   "metadata": {},
   "outputs": [],
   "source": [
    "# sns.lineplot(preprocessor.df.Weeknum.values, preprocessor.df.Weeknum.index)"
   ]
  }
 ],
 "metadata": {
  "kernelspec": {
   "display_name": "Python 3",
   "language": "python",
   "name": "python3"
  },
  "language_info": {
   "codemirror_mode": {
    "name": "ipython",
    "version": 3
   },
   "file_extension": ".py",
   "mimetype": "text/x-python",
   "name": "python",
   "nbconvert_exporter": "python",
   "pygments_lexer": "ipython3",
   "version": "3.7.4"
  },
  "toc": {
   "base_numbering": 1,
   "nav_menu": {},
   "number_sections": true,
   "sideBar": true,
   "skip_h1_title": false,
   "title_cell": "Table of Contents",
   "title_sidebar": "Contents",
   "toc_cell": false,
   "toc_position": {},
   "toc_section_display": true,
   "toc_window_display": false
  }
 },
 "nbformat": 4,
 "nbformat_minor": 2
}
