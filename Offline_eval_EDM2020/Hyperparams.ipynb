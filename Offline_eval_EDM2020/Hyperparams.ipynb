{
 "cells": [
  {
   "cell_type": "code",
   "execution_count": 1,
   "metadata": {},
   "outputs": [],
   "source": [
    "from OfflineEvaluator import OfflineEvaluator\n",
    "from Preprocessor import Preprocessor\n",
    "import utils\n",
    "from UserProfiler import UserProfiler\n",
    "\n",
    "import pickle\n",
    "import logging\n",
    "import operator\n",
    "import sys\n",
    "import os\n",
    "from collections import Counter\n",
    "import itertools\n",
    "from itertools import combinations\n",
    "from datetime import datetime, timedelta\n",
    "\n",
    "import numpy as np\n",
    "import pandas as pd\n",
    "import matplotlib.pyplot as plt\n",
    "import seaborn as sns\n",
    "from scipy import stats\n",
    "import spacy\n",
    "import re\n",
    "import networkx as nx"
   ]
  },
  {
   "cell_type": "code",
   "execution_count": 2,
   "metadata": {},
   "outputs": [],
   "source": [
    "dbnum = ##"
   ]
  },
  {
   "cell_type": "code",
   "execution_count": 3,
   "metadata": {},
   "outputs": [],
   "source": [
    "hyps = {}\n",
    "for meth in ['csclrec','coppr','pure_ppr','wmf','kcb']:\n",
    "    with open('results/db%d/%d-%s-eval1_cv_best.pickle'%(dbnum, dbnum, meth),'rb') as handle:\n",
    "        hyps[meth] = pickle.load(handle)"
   ]
  },
  {
   "cell_type": "code",
   "execution_count": 4,
   "metadata": {
    "scrolled": false
   },
   "outputs": [
    {
     "data": {
      "text/plain": [
       "{'csclrec': {1: (0.75, 7, 0.9),\n",
       "  2: (0.7, 10, 0.9),\n",
       "  3: (0.7, 10, 0.8),\n",
       "  4: (0.8, 10, 0.9),\n",
       "  5: (0.7, 10, 0.9)},\n",
       " 'coppr': {1: (0.75, 7, 0.9),\n",
       "  2: (0.7, 10, 0.9),\n",
       "  3: (0.7, 10, 0.9),\n",
       "  4: (0.7, 10, 0.9),\n",
       "  5: (0.75, 10, 0.9)},\n",
       " 'pure_ppr': {1: 0.85, 2: 0.85, 3: 0.85, 4: 0.85, 5: 0.85},\n",
       " 'wmf': {1: 15, 2: 30, 3: 20, 4: 25, 5: 15},\n",
       " 'kcb': {1: (15, 3), 2: (15, 5), 3: (20, 5), 4: (10, 5), 5: (15, 3)}}"
      ]
     },
     "execution_count": 4,
     "metadata": {},
     "output_type": "execute_result"
    }
   ],
   "source": [
    "hyps"
   ]
  }
 ],
 "metadata": {
  "kernelspec": {
   "display_name": "Python 3",
   "language": "python",
   "name": "python3"
  },
  "language_info": {
   "codemirror_mode": {
    "name": "ipython",
    "version": 3
   },
   "file_extension": ".py",
   "mimetype": "text/x-python",
   "name": "python",
   "nbconvert_exporter": "python",
   "pygments_lexer": "ipython3",
   "version": "3.7.4"
  },
  "toc": {
   "base_numbering": 1,
   "nav_menu": {},
   "number_sections": true,
   "sideBar": true,
   "skip_h1_title": false,
   "title_cell": "Table of Contents",
   "title_sidebar": "Contents",
   "toc_cell": false,
   "toc_position": {},
   "toc_section_display": true,
   "toc_window_display": false
  }
 },
 "nbformat": 4,
 "nbformat_minor": 2
}
